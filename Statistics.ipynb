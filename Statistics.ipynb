{
 "cells": [
  {
   "cell_type": "markdown",
   "metadata": {},
   "source": [
    "# Statistics Makeup Assignment \n",
    "\n",
    "**July 9, 2018** \n",
    "\n",
    "Using the `nba_players.csv` file, please answer the following questions by writing code to produce an analysis and by using Markdown cells to describe the results in your own words. For example, consider the following question: \n",
    "\n",
    "> What is the difference in pay between older and younger players? \n",
    "\n",
    "To answer this question, you might execute the following code block:\n",
    "\n",
    "```python\n",
    "data.groupby('AGE').mean()['SALARY'].sort_values(ascending=False)\n",
    "```\n",
    "\n",
    "Then respond with the following analysis in a Markdown block: \n",
    "\n",
    "> The median age of NBA players is 27 years old; as seen in the table above, the highest paid NBA players are in their late twenties and early 30s. The average salary by age increases from 26 years old and decreases after 34 years old.\n",
    "\n",
    "You may use statistical and visual analyses to answer the questions below. "
   ]
  },
  {
   "cell_type": "markdown",
   "metadata": {},
   "source": [
    "## Part One: Data Loading \n",
    "\n",
    "Load the the dataset into a Pandas DataFrame. Note that the CSV file contains headers representing the column names like PER (player efficiency rating) and GP (Games Played) that represent the season statistics for each player. For more on the various statistics please see the [NBA statistics glossary](http://stats.nba.com/help/glossary)."
   ]
  },
  {
   "cell_type": "code",
   "execution_count": 97,
   "metadata": {},
   "outputs": [],
   "source": [
    "# Load Dataset\n",
    "import numpy as np\n",
    "import pandas as pd\n",
    "df = pd.read_csv('nba_players.csv')"
   ]
  },
  {
   "cell_type": "code",
   "execution_count": 125,
   "metadata": {},
   "outputs": [
    {
     "data": {
      "text/html": [
       "<div>\n",
       "<style scoped>\n",
       "    .dataframe tbody tr th:only-of-type {\n",
       "        vertical-align: middle;\n",
       "    }\n",
       "\n",
       "    .dataframe tbody tr th {\n",
       "        vertical-align: top;\n",
       "    }\n",
       "\n",
       "    .dataframe thead th {\n",
       "        text-align: right;\n",
       "    }\n",
       "</style>\n",
       "<table border=\"1\" class=\"dataframe\">\n",
       "  <thead>\n",
       "    <tr style=\"text-align: right;\">\n",
       "      <th></th>\n",
       "      <th>Player</th>\n",
       "      <th>Team</th>\n",
       "      <th>POS</th>\n",
       "      <th>GamesPlayed</th>\n",
       "      <th>MaximumPointsPerGame</th>\n",
       "      <th>TrueShooting%</th>\n",
       "      <th>Assists</th>\n",
       "      <th>TurnOvers</th>\n",
       "      <th>Usage%</th>\n",
       "      <th>OffensiveReboundRate</th>\n",
       "      <th>DefensiveReboundRate</th>\n",
       "      <th>ReboundRate</th>\n",
       "      <th>PlayerEfficiencyRating</th>\n",
       "      <th>ValueAdded</th>\n",
       "      <th>EstimatedWinsAdded</th>\n",
       "      <th>AGE</th>\n",
       "      <th>HT</th>\n",
       "      <th>WT</th>\n",
       "      <th>SALARY</th>\n",
       "    </tr>\n",
       "  </thead>\n",
       "  <tbody>\n",
       "    <tr>\n",
       "      <th>318</th>\n",
       "      <td>Anthony Bennett</td>\n",
       "      <td>CLE</td>\n",
       "      <td>SF</td>\n",
       "      <td>52</td>\n",
       "      <td>12.80</td>\n",
       "      <td>0.42</td>\n",
       "      <td>5.30</td>\n",
       "      <td>14.70</td>\n",
       "      <td>18.70</td>\n",
       "      <td>8.10</td>\n",
       "      <td>18.40</td>\n",
       "      <td>13.10</td>\n",
       "      <td>6.95</td>\n",
       "      <td>-35.10</td>\n",
       "      <td>-1.20</td>\n",
       "      <td>21</td>\n",
       "      <td>80</td>\n",
       "      <td>259</td>\n",
       "      <td>5563920</td>\n",
       "    </tr>\n",
       "    <tr>\n",
       "      <th>319</th>\n",
       "      <td>Kendrick Perkins</td>\n",
       "      <td>OKC</td>\n",
       "      <td>C</td>\n",
       "      <td>62</td>\n",
       "      <td>19.50</td>\n",
       "      <td>0.47</td>\n",
       "      <td>17.70</td>\n",
       "      <td>23.70</td>\n",
       "      <td>10.90</td>\n",
       "      <td>8.10</td>\n",
       "      <td>19.90</td>\n",
       "      <td>14.30</td>\n",
       "      <td>6.32</td>\n",
       "      <td>-77.10</td>\n",
       "      <td>-2.60</td>\n",
       "      <td>29</td>\n",
       "      <td>82</td>\n",
       "      <td>270</td>\n",
       "      <td>9654342</td>\n",
       "    </tr>\n",
       "    <tr>\n",
       "      <th>320</th>\n",
       "      <td>Jeff Taylor</td>\n",
       "      <td>CHA</td>\n",
       "      <td>SF</td>\n",
       "      <td>26</td>\n",
       "      <td>24.20</td>\n",
       "      <td>0.44</td>\n",
       "      <td>7.70</td>\n",
       "      <td>8.80</td>\n",
       "      <td>17.50</td>\n",
       "      <td>2.70</td>\n",
       "      <td>8.10</td>\n",
       "      <td>5.40</td>\n",
       "      <td>5.97</td>\n",
       "      <td>-42.50</td>\n",
       "      <td>-1.40</td>\n",
       "      <td>25</td>\n",
       "      <td>79</td>\n",
       "      <td>225</td>\n",
       "      <td>915243</td>\n",
       "    </tr>\n",
       "    <tr>\n",
       "      <th>321</th>\n",
       "      <td>Dennis Schroder</td>\n",
       "      <td>ATL</td>\n",
       "      <td>PG</td>\n",
       "      <td>49</td>\n",
       "      <td>13.10</td>\n",
       "      <td>0.44</td>\n",
       "      <td>25.80</td>\n",
       "      <td>16.90</td>\n",
       "      <td>18.60</td>\n",
       "      <td>0.90</td>\n",
       "      <td>9.90</td>\n",
       "      <td>5.40</td>\n",
       "      <td>5.81</td>\n",
       "      <td>-49.70</td>\n",
       "      <td>-1.70</td>\n",
       "      <td>20</td>\n",
       "      <td>73</td>\n",
       "      <td>168</td>\n",
       "      <td>1690680</td>\n",
       "    </tr>\n",
       "    <tr>\n",
       "      <th>322</th>\n",
       "      <td>John Lucas III</td>\n",
       "      <td>UTAH</td>\n",
       "      <td>PG</td>\n",
       "      <td>42</td>\n",
       "      <td>14.10</td>\n",
       "      <td>0.40</td>\n",
       "      <td>16.10</td>\n",
       "      <td>8.40</td>\n",
       "      <td>16.20</td>\n",
       "      <td>2.30</td>\n",
       "      <td>5.40</td>\n",
       "      <td>3.80</td>\n",
       "      <td>5.23</td>\n",
       "      <td>-50.90</td>\n",
       "      <td>-1.70</td>\n",
       "      <td>31</td>\n",
       "      <td>71</td>\n",
       "      <td>166</td>\n",
       "      <td>1600000</td>\n",
       "    </tr>\n",
       "  </tbody>\n",
       "</table>\n",
       "</div>"
      ],
      "text/plain": [
       "               Player   Team POS  GamesPlayed  MaximumPointsPerGame  \\\n",
       "318   Anthony Bennett    CLE  SF           52                 12.80   \n",
       "319  Kendrick Perkins    OKC   C           62                 19.50   \n",
       "320       Jeff Taylor    CHA  SF           26                 24.20   \n",
       "321   Dennis Schroder    ATL  PG           49                 13.10   \n",
       "322    John Lucas III   UTAH  PG           42                 14.10   \n",
       "\n",
       "     TrueShooting%  Assists  TurnOvers  Usage%  OffensiveReboundRate  \\\n",
       "318           0.42     5.30      14.70   18.70                  8.10   \n",
       "319           0.47    17.70      23.70   10.90                  8.10   \n",
       "320           0.44     7.70       8.80   17.50                  2.70   \n",
       "321           0.44    25.80      16.90   18.60                  0.90   \n",
       "322           0.40    16.10       8.40   16.20                  2.30   \n",
       "\n",
       "     DefensiveReboundRate  ReboundRate  PlayerEfficiencyRating  ValueAdded  \\\n",
       "318                 18.40        13.10                    6.95      -35.10   \n",
       "319                 19.90        14.30                    6.32      -77.10   \n",
       "320                  8.10         5.40                    5.97      -42.50   \n",
       "321                  9.90         5.40                    5.81      -49.70   \n",
       "322                  5.40         3.80                    5.23      -50.90   \n",
       "\n",
       "     EstimatedWinsAdded  AGE  HT   WT   SALARY  \n",
       "318               -1.20   21  80  259  5563920  \n",
       "319               -2.60   29  82  270  9654342  \n",
       "320               -1.40   25  79  225   915243  \n",
       "321               -1.70   20  73  168  1690680  \n",
       "322               -1.70   31  71  166  1600000  "
      ]
     },
     "execution_count": 125,
     "metadata": {},
     "output_type": "execute_result"
    }
   ],
   "source": [
    "df.tail()"
   ]
  },
  {
   "cell_type": "markdown",
   "metadata": {},
   "source": [
    "A good first step is to do a quick overview of the dataset. Please print the descriptive statistics of each column. How many rows are in the dataset, e.g. how many players are there? What is the Salary range? Are there any obvious data errors that might exist in the dataset? "
   ]
  },
  {
   "cell_type": "code",
   "execution_count": 100,
   "metadata": {},
   "outputs": [],
   "source": [
    "df.columns = ['Player', 'Team', 'POS','GamesPlayed', 'MaximumPointsPerGame', 'TrueShooting%', 'Assists', 'TurnOvers',\n",
    "                 'Usage%', 'OffensiveReboundRate', 'DefensiveReboundRate', 'ReboundRate', 'PlayerEfficiencyRating',\n",
    "                 'ValueAdded', 'EstimatedWinsAdded', 'AGE', 'HT', 'WT', 'SALARY']"
   ]
  },
  {
   "cell_type": "code",
   "execution_count": 101,
   "metadata": {},
   "outputs": [
    {
     "data": {
      "text/html": [
       "<div>\n",
       "<style scoped>\n",
       "    .dataframe tbody tr th:only-of-type {\n",
       "        vertical-align: middle;\n",
       "    }\n",
       "\n",
       "    .dataframe tbody tr th {\n",
       "        vertical-align: top;\n",
       "    }\n",
       "\n",
       "    .dataframe thead th {\n",
       "        text-align: right;\n",
       "    }\n",
       "</style>\n",
       "<table border=\"1\" class=\"dataframe\">\n",
       "  <thead>\n",
       "    <tr style=\"text-align: right;\">\n",
       "      <th></th>\n",
       "      <th>GamesPlayed</th>\n",
       "      <th>MaximumPointsPerGame</th>\n",
       "      <th>TrueShooting%</th>\n",
       "      <th>Assists</th>\n",
       "      <th>TurnOvers</th>\n",
       "      <th>Usage%</th>\n",
       "      <th>OffensiveReboundRate</th>\n",
       "      <th>DefensiveReboundRate</th>\n",
       "      <th>ReboundRate</th>\n",
       "      <th>PlayerEfficiencyRating</th>\n",
       "      <th>ValueAdded</th>\n",
       "      <th>EstimatedWinsAdded</th>\n",
       "      <th>AGE</th>\n",
       "      <th>HT</th>\n",
       "      <th>WT</th>\n",
       "      <th>SALARY</th>\n",
       "    </tr>\n",
       "  </thead>\n",
       "  <tbody>\n",
       "    <tr>\n",
       "      <th>count</th>\n",
       "      <td>323.00</td>\n",
       "      <td>323.00</td>\n",
       "      <td>323.00</td>\n",
       "      <td>323.00</td>\n",
       "      <td>323.00</td>\n",
       "      <td>323.00</td>\n",
       "      <td>323.00</td>\n",
       "      <td>323.00</td>\n",
       "      <td>323.00</td>\n",
       "      <td>323.00</td>\n",
       "      <td>323.00</td>\n",
       "      <td>323.00</td>\n",
       "      <td>323.00</td>\n",
       "      <td>323.00</td>\n",
       "      <td>323.00</td>\n",
       "      <td>323.00</td>\n",
       "    </tr>\n",
       "    <tr>\n",
       "      <th>mean</th>\n",
       "      <td>67.16</td>\n",
       "      <td>24.88</td>\n",
       "      <td>0.54</td>\n",
       "      <td>15.95</td>\n",
       "      <td>11.04</td>\n",
       "      <td>18.44</td>\n",
       "      <td>5.40</td>\n",
       "      <td>15.04</td>\n",
       "      <td>10.22</td>\n",
       "      <td>14.65</td>\n",
       "      <td>117.62</td>\n",
       "      <td>3.92</td>\n",
       "      <td>27.17</td>\n",
       "      <td>79.14</td>\n",
       "      <td>222.06</td>\n",
       "      <td>5323345.15</td>\n",
       "    </tr>\n",
       "    <tr>\n",
       "      <th>std</th>\n",
       "      <td>14.06</td>\n",
       "      <td>7.54</td>\n",
       "      <td>0.05</td>\n",
       "      <td>8.12</td>\n",
       "      <td>2.78</td>\n",
       "      <td>4.68</td>\n",
       "      <td>3.88</td>\n",
       "      <td>5.98</td>\n",
       "      <td>4.67</td>\n",
       "      <td>4.12</td>\n",
       "      <td>143.55</td>\n",
       "      <td>4.78</td>\n",
       "      <td>4.06</td>\n",
       "      <td>3.56</td>\n",
       "      <td>26.85</td>\n",
       "      <td>5038149.32</td>\n",
       "    </tr>\n",
       "    <tr>\n",
       "      <th>min</th>\n",
       "      <td>17.00</td>\n",
       "      <td>7.00</td>\n",
       "      <td>0.39</td>\n",
       "      <td>3.30</td>\n",
       "      <td>3.00</td>\n",
       "      <td>8.60</td>\n",
       "      <td>0.80</td>\n",
       "      <td>5.40</td>\n",
       "      <td>3.80</td>\n",
       "      <td>5.23</td>\n",
       "      <td>-89.20</td>\n",
       "      <td>-3.00</td>\n",
       "      <td>19.00</td>\n",
       "      <td>69.00</td>\n",
       "      <td>161.00</td>\n",
       "      <td>0.00</td>\n",
       "    </tr>\n",
       "    <tr>\n",
       "      <th>25%</th>\n",
       "      <td>59.50</td>\n",
       "      <td>18.90</td>\n",
       "      <td>0.51</td>\n",
       "      <td>9.70</td>\n",
       "      <td>9.10</td>\n",
       "      <td>14.70</td>\n",
       "      <td>2.15</td>\n",
       "      <td>10.10</td>\n",
       "      <td>6.20</td>\n",
       "      <td>11.99</td>\n",
       "      <td>22.40</td>\n",
       "      <td>0.75</td>\n",
       "      <td>24.00</td>\n",
       "      <td>76.00</td>\n",
       "      <td>200.00</td>\n",
       "      <td>1522920.00</td>\n",
       "    </tr>\n",
       "    <tr>\n",
       "      <th>50%</th>\n",
       "      <td>72.00</td>\n",
       "      <td>25.20</td>\n",
       "      <td>0.54</td>\n",
       "      <td>14.10</td>\n",
       "      <td>10.70</td>\n",
       "      <td>18.00</td>\n",
       "      <td>4.00</td>\n",
       "      <td>13.60</td>\n",
       "      <td>9.20</td>\n",
       "      <td>14.10</td>\n",
       "      <td>77.20</td>\n",
       "      <td>2.60</td>\n",
       "      <td>27.00</td>\n",
       "      <td>80.00</td>\n",
       "      <td>222.00</td>\n",
       "      <td>3657500.00</td>\n",
       "    </tr>\n",
       "    <tr>\n",
       "      <th>75%</th>\n",
       "      <td>79.00</td>\n",
       "      <td>31.55</td>\n",
       "      <td>0.57</td>\n",
       "      <td>20.95</td>\n",
       "      <td>12.60</td>\n",
       "      <td>21.90</td>\n",
       "      <td>8.40</td>\n",
       "      <td>19.30</td>\n",
       "      <td>14.20</td>\n",
       "      <td>16.70</td>\n",
       "      <td>172.55</td>\n",
       "      <td>5.75</td>\n",
       "      <td>29.00</td>\n",
       "      <td>82.00</td>\n",
       "      <td>240.50</td>\n",
       "      <td>7500000.00</td>\n",
       "    </tr>\n",
       "    <tr>\n",
       "      <th>max</th>\n",
       "      <td>83.00</td>\n",
       "      <td>38.70</td>\n",
       "      <td>0.69</td>\n",
       "      <td>47.10</td>\n",
       "      <td>23.70</td>\n",
       "      <td>33.50</td>\n",
       "      <td>17.50</td>\n",
       "      <td>32.10</td>\n",
       "      <td>22.30</td>\n",
       "      <td>29.90</td>\n",
       "      <td>903.80</td>\n",
       "      <td>30.10</td>\n",
       "      <td>39.00</td>\n",
       "      <td>86.00</td>\n",
       "      <td>290.00</td>\n",
       "      <td>23410988.00</td>\n",
       "    </tr>\n",
       "  </tbody>\n",
       "</table>\n",
       "</div>"
      ],
      "text/plain": [
       "       GamesPlayed  MaximumPointsPerGame  TrueShooting%  Assists  TurnOvers  \\\n",
       "count       323.00                323.00         323.00   323.00     323.00   \n",
       "mean         67.16                 24.88           0.54    15.95      11.04   \n",
       "std          14.06                  7.54           0.05     8.12       2.78   \n",
       "min          17.00                  7.00           0.39     3.30       3.00   \n",
       "25%          59.50                 18.90           0.51     9.70       9.10   \n",
       "50%          72.00                 25.20           0.54    14.10      10.70   \n",
       "75%          79.00                 31.55           0.57    20.95      12.60   \n",
       "max          83.00                 38.70           0.69    47.10      23.70   \n",
       "\n",
       "       Usage%  OffensiveReboundRate  DefensiveReboundRate  ReboundRate  \\\n",
       "count  323.00                323.00                323.00       323.00   \n",
       "mean    18.44                  5.40                 15.04        10.22   \n",
       "std      4.68                  3.88                  5.98         4.67   \n",
       "min      8.60                  0.80                  5.40         3.80   \n",
       "25%     14.70                  2.15                 10.10         6.20   \n",
       "50%     18.00                  4.00                 13.60         9.20   \n",
       "75%     21.90                  8.40                 19.30        14.20   \n",
       "max     33.50                 17.50                 32.10        22.30   \n",
       "\n",
       "       PlayerEfficiencyRating  ValueAdded  EstimatedWinsAdded    AGE     HT  \\\n",
       "count                  323.00      323.00              323.00 323.00 323.00   \n",
       "mean                    14.65      117.62                3.92  27.17  79.14   \n",
       "std                      4.12      143.55                4.78   4.06   3.56   \n",
       "min                      5.23      -89.20               -3.00  19.00  69.00   \n",
       "25%                     11.99       22.40                0.75  24.00  76.00   \n",
       "50%                     14.10       77.20                2.60  27.00  80.00   \n",
       "75%                     16.70      172.55                5.75  29.00  82.00   \n",
       "max                     29.90      903.80               30.10  39.00  86.00   \n",
       "\n",
       "          WT      SALARY  \n",
       "count 323.00      323.00  \n",
       "mean  222.06  5323345.15  \n",
       "std    26.85  5038149.32  \n",
       "min   161.00        0.00  \n",
       "25%   200.00  1522920.00  \n",
       "50%   222.00  3657500.00  \n",
       "75%   240.50  7500000.00  \n",
       "max   290.00 23410988.00  "
      ]
     },
     "execution_count": 101,
     "metadata": {},
     "output_type": "execute_result"
    }
   ],
   "source": [
    "# Print descriptive statistics\n",
    "pd.options.display.float_format = '{:.2f}'.format\n",
    "df.describe()\n"
   ]
  },
  {
   "cell_type": "markdown",
   "metadata": {},
   "source": [
    "_Enter answers here by double clicking on the cell, then \"running it\" when done_\n",
    "\n",
    "### Number of players = 323\n",
    "\n",
    "### Salary Range = 0 - $23,410,988\n",
    "\n",
    "### Errors include the fact that some players have 0 as salary amount and the Value Added and Estimated Wins Added have negative values (may be okay, need to understand the stat better)."
   ]
  },
  {
   "cell_type": "markdown",
   "metadata": {},
   "source": [
    "## Part Two: Descriptive Statistics"
   ]
  },
  {
   "cell_type": "markdown",
   "metadata": {},
   "source": [
    "### What are the highest paid teams in the NBA?"
   ]
  },
  {
   "cell_type": "code",
   "execution_count": 102,
   "metadata": {},
   "outputs": [
    {
     "data": {
      "text/plain": [
       "Team\n",
       " BKN    96442106\n",
       " NY     87522921\n",
       " LAC    75318203\n",
       " HOU    71632250\n",
       " OKC    70831560\n",
       "Name: SALARY, dtype: int64"
      ]
     },
     "execution_count": 102,
     "metadata": {},
     "output_type": "execute_result"
    }
   ],
   "source": [
    "# Enter code here\n",
    "df.groupby('Team')['SALARY'].sum().sort_values(ascending=False).head()"
   ]
  },
  {
   "cell_type": "markdown",
   "metadata": {},
   "source": [
    "_Enter answers here by double clicking on the cell, then \"running it\" when done_\n",
    "\n",
    "### The top 5 highest paid teams are:\n",
    "* Brooklyn Nets  \n",
    "* New York Nicks  \n",
    "* LA Clippers  \n",
    "* Houston Rockets  \n",
    "* Oklahoma City Thunder  "
   ]
  },
  {
   "cell_type": "markdown",
   "metadata": {},
   "source": [
    "### What is the distribution of height and weight for NBA players? Is it normal? If not, what kind of distribution is it?"
   ]
  },
  {
   "cell_type": "code",
   "execution_count": 103,
   "metadata": {},
   "outputs": [
    {
     "data": {
      "text/plain": [
       "Text(0,0.5,'Number of Players')"
      ]
     },
     "execution_count": 103,
     "metadata": {},
     "output_type": "execute_result"
    },
    {
     "data": {
      "image/png": "[encoded data removed]",
      "text/plain": [
       "<matplotlib.figure.Figure at 0x7fdabbcd6d30>"
      ]
     },
     "metadata": {},
     "output_type": "display_data"
    }
   ],
   "source": [
    "# Enter code here\n",
    "%matplotlib inline\n",
    "import matplotlib.pyplot as plt\n",
    "\n",
    "plt.figure(figsize=(20, 10))\n",
    "plt.subplot(1, 2, 1)\n",
    "plt.hist(df['HT'], color='green', edgecolor='black', bins=20)\n",
    "plt.title('Histogram of Player Height', fontsize=20)\n",
    "plt.xlabel('Height (inches)', fontsize=20)\n",
    "plt.ylabel('Number of Players', fontsize=20)\n",
    "\n",
    "plt.subplot(1, 2, 2)\n",
    "plt.hist(df['WT'], color='yellow', edgecolor='black', bins=20)\n",
    "plt.title('Histogram of Player Weight', fontsize=20)\n",
    "plt.xlabel('Weight (lbs)', fontsize=20)\n",
    "plt.ylabel('Number of Players', fontsize=20)"
   ]
  },
  {
   "cell_type": "markdown",
   "metadata": {},
   "source": [
    "_Enter answers here by double clicking on the cell, then \"running it\" when done_\n",
    "\n",
    "#### Player height is not normally distributed, but is skewed to the left.  Player weight is more normally distributed."
   ]
  },
  {
   "cell_type": "markdown",
   "metadata": {},
   "source": [
    "### What are the most descriptive central measures for SALARY, AGE, PER, and REBR and why?"
   ]
  },
  {
   "cell_type": "code",
   "execution_count": 104,
   "metadata": {},
   "outputs": [
    {
     "data": {
      "text/html": [
       "<div>\n",
       "<style scoped>\n",
       "    .dataframe tbody tr th:only-of-type {\n",
       "        vertical-align: middle;\n",
       "    }\n",
       "\n",
       "    .dataframe tbody tr th {\n",
       "        vertical-align: top;\n",
       "    }\n",
       "\n",
       "    .dataframe thead th {\n",
       "        text-align: right;\n",
       "    }\n",
       "</style>\n",
       "<table border=\"1\" class=\"dataframe\">\n",
       "  <thead>\n",
       "    <tr style=\"text-align: right;\">\n",
       "      <th></th>\n",
       "      <th>SALARY</th>\n",
       "      <th>AGE</th>\n",
       "      <th>PlayerEfficiencyRating</th>\n",
       "      <th>ReboundRate</th>\n",
       "    </tr>\n",
       "  </thead>\n",
       "  <tbody>\n",
       "    <tr>\n",
       "      <th>count</th>\n",
       "      <td>323.00</td>\n",
       "      <td>323.00</td>\n",
       "      <td>323.00</td>\n",
       "      <td>323.00</td>\n",
       "    </tr>\n",
       "    <tr>\n",
       "      <th>mean</th>\n",
       "      <td>5323345.15</td>\n",
       "      <td>27.17</td>\n",
       "      <td>14.65</td>\n",
       "      <td>10.22</td>\n",
       "    </tr>\n",
       "    <tr>\n",
       "      <th>std</th>\n",
       "      <td>5038149.32</td>\n",
       "      <td>4.06</td>\n",
       "      <td>4.12</td>\n",
       "      <td>4.67</td>\n",
       "    </tr>\n",
       "    <tr>\n",
       "      <th>min</th>\n",
       "      <td>0.00</td>\n",
       "      <td>19.00</td>\n",
       "      <td>5.23</td>\n",
       "      <td>3.80</td>\n",
       "    </tr>\n",
       "    <tr>\n",
       "      <th>25%</th>\n",
       "      <td>1522920.00</td>\n",
       "      <td>24.00</td>\n",
       "      <td>11.99</td>\n",
       "      <td>6.20</td>\n",
       "    </tr>\n",
       "    <tr>\n",
       "      <th>50%</th>\n",
       "      <td>3657500.00</td>\n",
       "      <td>27.00</td>\n",
       "      <td>14.10</td>\n",
       "      <td>9.20</td>\n",
       "    </tr>\n",
       "    <tr>\n",
       "      <th>75%</th>\n",
       "      <td>7500000.00</td>\n",
       "      <td>29.00</td>\n",
       "      <td>16.70</td>\n",
       "      <td>14.20</td>\n",
       "    </tr>\n",
       "    <tr>\n",
       "      <th>max</th>\n",
       "      <td>23410988.00</td>\n",
       "      <td>39.00</td>\n",
       "      <td>29.90</td>\n",
       "      <td>22.30</td>\n",
       "    </tr>\n",
       "  </tbody>\n",
       "</table>\n",
       "</div>"
      ],
      "text/plain": [
       "           SALARY    AGE  PlayerEfficiencyRating  ReboundRate\n",
       "count      323.00 323.00                  323.00       323.00\n",
       "mean   5323345.15  27.17                   14.65        10.22\n",
       "std    5038149.32   4.06                    4.12         4.67\n",
       "min          0.00  19.00                    5.23         3.80\n",
       "25%    1522920.00  24.00                   11.99         6.20\n",
       "50%    3657500.00  27.00                   14.10         9.20\n",
       "75%    7500000.00  29.00                   16.70        14.20\n",
       "max   23410988.00  39.00                   29.90        22.30"
      ]
     },
     "execution_count": 104,
     "metadata": {},
     "output_type": "execute_result"
    }
   ],
   "source": [
    "# Enter code here\n",
    "\n",
    "df[['SALARY', 'AGE', 'PlayerEfficiencyRating', 'ReboundRate']].describe()"
   ]
  },
  {
   "cell_type": "markdown",
   "metadata": {},
   "source": [
    "_Enter answers here by double clicking on the cell, then \"running it\" when done_\n",
    "\n",
    "The most descriptive measures of central tendency are the mean, median and standard deviation.  The mean and median are important because comparing the two allows you to understand if the distribution if normal or not.  For example, the distribution of AGE and PER are roughly normal since their mean and medians are about equal.  Median also is not affected by extreme values as is the case with SALARY.  Standard Deviation is very helpful because it provides a measure of overall dispersion.  One standard deviation indicates that 68% of data points fall within a range that is plus or minus the standard deviation from the mean. The one caveat with this is that it depends on the distribution being normal."
   ]
  },
  {
   "cell_type": "markdown",
   "metadata": {},
   "source": [
    "### What position has the highest TS% (True Shooting Percent?) "
   ]
  },
  {
   "cell_type": "code",
   "execution_count": 105,
   "metadata": {},
   "outputs": [
    {
     "data": {
      "text/plain": [
       "POS\n",
       "C    0.55\n",
       "PF   0.54\n",
       "SG   0.54\n",
       "SF   0.53\n",
       "PG   0.52\n",
       "Name: TrueShooting%, dtype: float64"
      ]
     },
     "execution_count": 105,
     "metadata": {},
     "output_type": "execute_result"
    }
   ],
   "source": [
    "# Enter code here\n",
    "df.groupby('POS')['TrueShooting%'].mean().sort_values(ascending=False).head()"
   ]
  },
  {
   "cell_type": "markdown",
   "metadata": {},
   "source": [
    "_Enter answers here by double clicking on the cell, then \"running it\" when done_\n",
    "\n",
    "### The center has the highest True Shooting Percentage at 55%."
   ]
  },
  {
   "cell_type": "markdown",
   "metadata": {},
   "source": [
    "### What is the variability in maximum points per game (MPG) by position? "
   ]
  },
  {
   "cell_type": "code",
   "execution_count": 106,
   "metadata": {},
   "outputs": [
    {
     "data": {
      "text/plain": [
       "POS\n",
       "C    7.39\n",
       "PF   7.47\n",
       "PG   7.45\n",
       "SF   7.74\n",
       "SG   7.35\n",
       "Name: MaximumPointsPerGame, dtype: float64"
      ]
     },
     "execution_count": 106,
     "metadata": {},
     "output_type": "execute_result"
    }
   ],
   "source": [
    "# Enter code here\n",
    "\n",
    "df.groupby('POS')['MaximumPointsPerGame'].agg(np.std)"
   ]
  },
  {
   "cell_type": "markdown",
   "metadata": {},
   "source": [
    "_Enter answers here by double clicking on the cell, then \"running it\" when done_\n",
    "\n",
    "The variability in maximum points per game by position is measured by standard deviation and is between 7.35 and 7.74."
   ]
  },
  {
   "cell_type": "markdown",
   "metadata": {},
   "source": [
    "## Part Three: Correlations"
   ]
  },
  {
   "cell_type": "markdown",
   "metadata": {},
   "source": [
    "### What field has the highest correlation with PER? \n",
    "\n",
    "**NOTE**: Exclude PLAYER, TEAM, POS, AGE, HT, WT, and SALARY "
   ]
  },
  {
   "cell_type": "code",
   "execution_count": 75,
   "metadata": {},
   "outputs": [
    {
     "data": {
      "text/plain": [
       "PlayerEfficiencyRating    1.00\n",
       "EstimatedWinsAdded        0.90\n",
       "ValueAdded                0.90\n",
       "Usage%                    0.65\n",
       "SALARY                    0.59\n",
       "TrueShooting%             0.58\n",
       "MinutesPerGame            0.58\n",
       "DefensiveReboundRate      0.35\n",
       "ReboundRate               0.33\n",
       "OffensiveReboundRate      0.23\n",
       "WT                        0.22\n",
       "HT                        0.14\n",
       "GamesPlayed               0.14\n",
       "AGE                       0.01\n",
       "Assists                  -0.04\n",
       "TurnOvers                -0.14\n",
       "Name: PlayerEfficiencyRating, dtype: float64"
      ]
     },
     "execution_count": 75,
     "metadata": {},
     "output_type": "execute_result"
    }
   ],
   "source": [
    "# Enter code here\n",
    "corr_matrix = df.corr()\n",
    "corr_matrix['PlayerEfficiencyRating'].sort_values(ascending=False)"
   ]
  },
  {
   "cell_type": "markdown",
   "metadata": {},
   "source": [
    "_Enter answers here by double clicking on the cell, then \"running it\" when done_\n",
    "#### Estimated Wins Added and Value Added are equal with the highest correlation with PER at 90%."
   ]
  },
  {
   "cell_type": "markdown",
   "metadata": {},
   "source": [
    "### Is there a linear correlation between PER and Salary? "
   ]
  },
  {
   "cell_type": "code",
   "execution_count": 137,
   "metadata": {},
   "outputs": [
    {
     "data": {
      "text/plain": [
       "Text(0,0.5,'Salary')"
      ]
     },
     "execution_count": 137,
     "metadata": {},
     "output_type": "execute_result"
    },
    {
     "data": {
      "image/png": "[encoded data removed]",
      "text/plain": [
       "<matplotlib.figure.Figure at 0x7fdab886a390>"
      ]
     },
     "metadata": {},
     "output_type": "display_data"
    }
   ],
   "source": [
    "# Enter code here\n",
    "from numpy.polynomial.polynomial import polyfit\n",
    "\n",
    "plt.figure(figsize=(10, 10))\n",
    "x = df['PlayerEfficiencyRating']\n",
    "y = df['SALARY']\n",
    "b, m = polyfit(x, y, 1)\n",
    "plt.scatter(x, y)\n",
    "plt.plot(x, b + m * x, '-', c='red')\n",
    "#plt.scatter(df['PlayerEfficiencyRating'], df['SALARY'], c='red')\n",
    "\n",
    "plt.title('PER vs. Salary', fontsize=20)\n",
    "plt.xlabel('Player Efficiency Rating', fontsize=20)\n",
    "plt.ylabel('Salary', fontsize=20)"
   ]
  },
  {
   "cell_type": "markdown",
   "metadata": {},
   "source": [
    "_Enter answers here by double clicking on the cell, then \"running it\" when done_\n",
    "#### Based on the correlation coefficient and examining the scatter plot there could be a low positive correlation between Player Efficiency Rating and Salary, but there appears also to be heteroskedasticity present which would argue against a linear correlation."
   ]
  },
  {
   "cell_type": "markdown",
   "metadata": {},
   "source": [
    "### Is there a quadratic correlation between PER and Salary?"
   ]
  },
  {
   "cell_type": "code",
   "execution_count": 138,
   "metadata": {},
   "outputs": [
    {
     "name": "stdout",
     "output_type": "stream",
     "text": [
      "          2\n",
      "2.86e+04 x - 1.986e+05 x + 1.612e+06\n"
     ]
    },
    {
     "data": {
      "image/png": "[encoded data removed]",
      "text/plain": [
       "<matplotlib.figure.Figure at 0x7fdab87ca0b8>"
      ]
     },
     "metadata": {},
     "output_type": "display_data"
    }
   ],
   "source": [
    "# Enter code here\n",
    "from matplotlib import pylab\n",
    "plt.figure(figsize=(10, 10))\n",
    "\n",
    "z = np.polyfit(x, y, 2)\n",
    "f = np.poly1d(z)\n",
    "x_new = np.linspace(x[0], x[322])\n",
    "y_new = f(x_new)\n",
    "\n",
    "plt.plot(x, y, 'o', x_new, y_new)\n",
    "plt.title('PER vs. Salary', fontsize=20)\n",
    "plt.xlabel('Player Efficiency Rating', fontsize=20)\n",
    "plt.ylabel('Salary', fontsize=20)\n",
    "\n",
    "print(f)"
   ]
  },
  {
   "cell_type": "markdown",
   "metadata": {},
   "source": [
    "_Enter answers here by double clicking on the cell, then \"running it\" when done_\n",
    "\n",
    "#### There appears to be a quadratic relationship between salary and player efficiency expressed by the equation:\n",
    "\n",
    "\\begin{equation*}\n",
    "2.86e+04 x^2 - 1.986e+05 x + 1.612e+06\n",
    "\\end{equation*}"
   ]
  },
  {
   "cell_type": "markdown",
   "metadata": {},
   "source": [
    "### Does the correlation between PER and Salary change if outliers are removed? \n",
    "\n",
    "Possible outlier removal techniques: \n",
    "\n",
    "- Remove values greater than 3 standard deviations away from mean (3 zscores). \n",
    "- Remove min and max values \n",
    "- Use only 5% to 95% percentiles "
   ]
  },
  {
   "cell_type": "code",
   "execution_count": 258,
   "metadata": {},
   "outputs": [
    {
     "data": {
      "text/plain": [
       "Text(0.5,0,'Player Efficiency Rating')"
      ]
     },
     "execution_count": 258,
     "metadata": {},
     "output_type": "execute_result"
    },
    {
     "data": {
      "image/png": "[encoded data removed]",
      "text/plain": [
       "<matplotlib.figure.Figure at 0x7fdab129a630>"
      ]
     },
     "metadata": {},
     "output_type": "display_data"
    }
   ],
   "source": [
    "# Enter code here\n",
    "plt.figure(figsize=(20, 5))\n",
    "\n",
    "# Excluding 3 Standard Deviations\n",
    "\n",
    "plt.subplot(1, 3, 1)\n",
    "x = df['PlayerEfficiencyRating']\n",
    "std3_per = np.std(x) * 3\n",
    "x_lessoutliers = [i for i in x if (i < std3_per)]\n",
    "\n",
    "y = df['SALARY']\n",
    "std3_salary = np.std(y) * 3\n",
    "y_lessoutliers = [i for i in y if (i < std3_salary)]\n",
    "y_lessoutliers\n",
    "\n",
    "plt.scatter(x_lessoutliers, y_lessoutliers[:len(x_lessoutliers)])\n",
    "\n",
    "plt.title('PER vs. Salary Exluding 3 SD', fontsize=15)\n",
    "plt.xlabel('Player Efficiency Rating', fontsize=20)\n",
    "plt.ylabel('Salary', fontsize=20)\n",
    "\n",
    "# Excluding Max and Min\n",
    "\n",
    "plt.subplot(1, 3, 2)\n",
    "x_lessoutliers2 = [i for i in x if (i < np.max(x) and i > np.min(x))]\n",
    "y_lessoutliers2 = [i for i in y if (i < np.max(y) and i > np.min(y))]\n",
    "\n",
    "plt.scatter(x_lessoutliers2[:len(y_lessoutliers2)], y_lessoutliers2)\n",
    "\n",
    "plt.title('PER vs. Salary Excluding Max and Min', fontsize=15)\n",
    "plt.xlabel('Player Efficiency Rating', fontsize=20)\n",
    "\n",
    "# Excluding 5% and 95%\n",
    "\n",
    "plt.subplot(1, 3, 3)\n",
    "x_lessoutliers3 = [i for i in x if (i < np.percentile(x, 95) and i > np.percentile(x, 5))]\n",
    "y_lessoutliers3 = [i for i in y if (i < np.percentile(y, 95) and i > np.percentile(y, 5))]\n",
    "\n",
    "plt.scatter(x_lessoutliers3[:len(y_lessoutliers3)], y_lessoutliers3)\n",
    "\n",
    "plt.title('PER vs. Salary Excluding 5% and 95%', fontsize=15)\n",
    "plt.xlabel('Player Efficiency Rating', fontsize=20)\n"
   ]
  },
  {
   "cell_type": "code",
   "execution_count": 257,
   "metadata": {},
   "outputs": [
    {
     "name": "stdout",
     "output_type": "stream",
     "text": [
      "[[ 1.          0.27330504]\n",
      " [ 0.27330504  1.        ]]\n",
      "[[ 1.          0.61633306]\n",
      " [ 0.61633306  1.        ]]\n",
      "[[ 1.          0.49670891]\n",
      " [ 0.49670891  1.        ]]\n"
     ]
    }
   ],
   "source": [
    "print(np.corrcoef(x_lessoutliers, y_lessoutliers[:len(x_lessoutliers)]))\n",
    "print(np.corrcoef(x_lessoutliers2[:len(y_lessoutliers2)], y_lessoutliers2))\n",
    "print(np.corrcoef(x_lessoutliers3[:len(y_lessoutliers3)], y_lessoutliers3))"
   ]
  },
  {
   "cell_type": "markdown",
   "metadata": {},
   "source": [
    "_Enter answers here by double clicking on the cell, then \"running it\" when done_\n",
    "\n",
    "#### While excluding the Max and Min values yields the highest correlation coefficient among the three outlier removal techniques at 62% it is still a weak correlation.  No, none of these techniques yields better results."
   ]
  },
  {
   "cell_type": "markdown",
   "metadata": {},
   "source": [
    "## Part Four: Regression"
   ]
  },
  {
   "cell_type": "markdown",
   "metadata": {},
   "source": [
    "### Is there a multivariate regression that can predict salary based on player statistics? "
   ]
  },
  {
   "cell_type": "code",
   "execution_count": 12,
   "metadata": {},
   "outputs": [],
   "source": [
    "# Enter code here "
   ]
  },
  {
   "cell_type": "markdown",
   "metadata": {},
   "source": [
    "_Enter answers here by double clicking on the cell, then \"running it\" when done_"
   ]
  }
 ],
 "metadata": {
  "kernelspec": {
   "display_name": "Python 3",
   "language": "python",
   "name": "python3"
  },
  "language_info": {
   "codemirror_mode": {
    "name": "ipython",
    "version": 3
   },
   "file_extension": ".py",
   "mimetype": "text/x-python",
   "name": "python",
   "nbconvert_exporter": "python",
   "pygments_lexer": "ipython3",
   "version": "3.6.3"
  }
 },
 "nbformat": 4,
 "nbformat_minor": 2
}
